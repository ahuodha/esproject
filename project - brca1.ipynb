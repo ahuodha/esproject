{
 "cells": [
  {
   "cell_type": "markdown",
   "id": "40b222a8",
   "metadata": {},
   "source": [
    "### Import Libraries"
   ]
  },
  {
   "cell_type": "code",
   "execution_count": 1,
   "id": "1be28d7f",
   "metadata": {},
   "outputs": [],
   "source": [
    "import pandas as pd \n",
    "import numpy as np \n",
    "import matplotlib.pyplot as plt\n",
    "import seaborn as sns\n",
    "%matplotlib inline\n",
    "from sklearn.preprocessing import StandardScaler\n",
    "from pandas.plotting import scatter_matrix \n",
    "from sklearn import model_selection \n",
    "from sklearn.metrics import classification_report \n",
    "from sklearn.metrics import confusion_matrix\n",
    "from sklearn.metrics import accuracy_score \n",
    "from sklearn.tree import DecisionTreeClassifier \n",
    "from sklearn.neighbors import KNeighborsClassifier \n",
    "from sklearn.naive_bayes import GaussianNB \n",
    "from sklearn.svm import SVC\n",
    "from sklearn.model_selection import KFold\n",
    "%matplotlib inline"
   ]
  },
  {
   "cell_type": "markdown",
   "id": "9e6bcdc1",
   "metadata": {},
   "source": [
    "### Reading BRCA1 dataset"
   ]
  },
  {
   "cell_type": "code",
   "execution_count": 2,
   "id": "a27a2e79",
   "metadata": {},
   "outputs": [
    {
     "data": {
      "text/html": [
       "<div>\n",
       "<style scoped>\n",
       "    .dataframe tbody tr th:only-of-type {\n",
       "        vertical-align: middle;\n",
       "    }\n",
       "\n",
       "    .dataframe tbody tr th {\n",
       "        vertical-align: top;\n",
       "    }\n",
       "\n",
       "    .dataframe thead th {\n",
       "        text-align: right;\n",
       "    }\n",
       "</style>\n",
       "<table border=\"1\" class=\"dataframe\">\n",
       "  <thead>\n",
       "    <tr style=\"text-align: right;\">\n",
       "      <th></th>\n",
       "      <th>Location</th>\n",
       "      <th>Mutation Type</th>\n",
       "      <th>Nucleotide Change</th>\n",
       "      <th>Classification</th>\n",
       "      <th>Posterior Probability</th>\n",
       "    </tr>\n",
       "  </thead>\n",
       "  <tbody>\n",
       "    <tr>\n",
       "      <th>0</th>\n",
       "      <td>Exon 2</td>\n",
       "      <td>Start Loss</td>\n",
       "      <td>c.1A&gt;G</td>\n",
       "      <td>5 - Definitely pathogenic</td>\n",
       "      <td>0.990000</td>\n",
       "    </tr>\n",
       "    <tr>\n",
       "      <th>1</th>\n",
       "      <td>Exon 2</td>\n",
       "      <td>Start Loss</td>\n",
       "      <td>c.2T&gt;C</td>\n",
       "      <td>5 - Definitely pathogenic</td>\n",
       "      <td>0.990000</td>\n",
       "    </tr>\n",
       "    <tr>\n",
       "      <th>2</th>\n",
       "      <td>Exon 2</td>\n",
       "      <td>Start Loss</td>\n",
       "      <td>c.2T&gt;G</td>\n",
       "      <td>5 - Definitely pathogenic</td>\n",
       "      <td>0.990000</td>\n",
       "    </tr>\n",
       "    <tr>\n",
       "      <th>3</th>\n",
       "      <td>Exon 2</td>\n",
       "      <td>Start Loss</td>\n",
       "      <td>c.3G&gt;C</td>\n",
       "      <td>5 - Definitely pathogenic</td>\n",
       "      <td>0.990000</td>\n",
       "    </tr>\n",
       "    <tr>\n",
       "      <th>4</th>\n",
       "      <td>Exon 2</td>\n",
       "      <td>Start Loss</td>\n",
       "      <td>c.3G&gt;T</td>\n",
       "      <td>5 - Definitely pathogenic</td>\n",
       "      <td>0.990000</td>\n",
       "    </tr>\n",
       "    <tr>\n",
       "      <th>...</th>\n",
       "      <td>...</td>\n",
       "      <td>...</td>\n",
       "      <td>...</td>\n",
       "      <td>...</td>\n",
       "      <td>...</td>\n",
       "    </tr>\n",
       "    <tr>\n",
       "      <th>816</th>\n",
       "      <td>Exon 11</td>\n",
       "      <td>Missense</td>\n",
       "      <td>c.3713C&gt;T</td>\n",
       "      <td>1 - Not pathogenic or of no clinical significance</td>\n",
       "      <td>0.000000</td>\n",
       "    </tr>\n",
       "    <tr>\n",
       "      <th>817</th>\n",
       "      <td>Exon 11</td>\n",
       "      <td>Missense</td>\n",
       "      <td>c.3797G&gt;C</td>\n",
       "      <td>1 - Not pathogenic or of no clinical significance</td>\n",
       "      <td>0.000000</td>\n",
       "    </tr>\n",
       "    <tr>\n",
       "      <th>818</th>\n",
       "      <td>Exon 11</td>\n",
       "      <td>Missense</td>\n",
       "      <td>c.3800T&gt;C</td>\n",
       "      <td>2 - Likely not pathogenic or of little clinica...</td>\n",
       "      <td>0.004267</td>\n",
       "    </tr>\n",
       "    <tr>\n",
       "      <th>819</th>\n",
       "      <td>Exon 11</td>\n",
       "      <td>Missense</td>\n",
       "      <td>c.3818A&gt;G</td>\n",
       "      <td>3 - Uncertain</td>\n",
       "      <td>0.169786</td>\n",
       "    </tr>\n",
       "    <tr>\n",
       "      <th>820</th>\n",
       "      <td>Exon 11</td>\n",
       "      <td>Missense</td>\n",
       "      <td>c.3835G&gt;A</td>\n",
       "      <td>2 - Likely not pathogenic or of little clinica...</td>\n",
       "      <td>0.007726</td>\n",
       "    </tr>\n",
       "  </tbody>\n",
       "</table>\n",
       "<p>821 rows × 5 columns</p>\n",
       "</div>"
      ],
      "text/plain": [
       "    Location Mutation Type Nucleotide Change  \\\n",
       "0     Exon 2    Start Loss            c.1A>G   \n",
       "1     Exon 2    Start Loss            c.2T>C   \n",
       "2     Exon 2    Start Loss            c.2T>G   \n",
       "3     Exon 2    Start Loss            c.3G>C   \n",
       "4     Exon 2    Start Loss            c.3G>T   \n",
       "..       ...           ...               ...   \n",
       "816  Exon 11      Missense         c.3713C>T   \n",
       "817  Exon 11      Missense         c.3797G>C   \n",
       "818  Exon 11      Missense         c.3800T>C   \n",
       "819  Exon 11      Missense         c.3818A>G   \n",
       "820  Exon 11      Missense         c.3835G>A   \n",
       "\n",
       "                                        Classification  Posterior Probability  \n",
       "0                            5 - Definitely pathogenic               0.990000  \n",
       "1                            5 - Definitely pathogenic               0.990000  \n",
       "2                            5 - Definitely pathogenic               0.990000  \n",
       "3                            5 - Definitely pathogenic               0.990000  \n",
       "4                            5 - Definitely pathogenic               0.990000  \n",
       "..                                                 ...                    ...  \n",
       "816  1 - Not pathogenic or of no clinical significance               0.000000  \n",
       "817  1 - Not pathogenic or of no clinical significance               0.000000  \n",
       "818  2 - Likely not pathogenic or of little clinica...               0.004267  \n",
       "819                                      3 - Uncertain               0.169786  \n",
       "820  2 - Likely not pathogenic or of little clinica...               0.007726  \n",
       "\n",
       "[821 rows x 5 columns]"
      ]
     },
     "execution_count": 2,
     "metadata": {},
     "output_type": "execute_result"
    }
   ],
   "source": [
    "dataset = pd.read_csv('brca1.csv')\n",
    "dataset"
   ]
  },
  {
   "cell_type": "code",
   "execution_count": 3,
   "id": "262573f1",
   "metadata": {},
   "outputs": [
    {
     "data": {
      "text/html": [
       "<div>\n",
       "<style scoped>\n",
       "    .dataframe tbody tr th:only-of-type {\n",
       "        vertical-align: middle;\n",
       "    }\n",
       "\n",
       "    .dataframe tbody tr th {\n",
       "        vertical-align: top;\n",
       "    }\n",
       "\n",
       "    .dataframe thead th {\n",
       "        text-align: right;\n",
       "    }\n",
       "</style>\n",
       "<table border=\"1\" class=\"dataframe\">\n",
       "  <thead>\n",
       "    <tr style=\"text-align: right;\">\n",
       "      <th></th>\n",
       "      <th>Posterior Probability</th>\n",
       "    </tr>\n",
       "  </thead>\n",
       "  <tbody>\n",
       "    <tr>\n",
       "      <th>count</th>\n",
       "      <td>821.000000</td>\n",
       "    </tr>\n",
       "    <tr>\n",
       "      <th>mean</th>\n",
       "      <td>0.723733</td>\n",
       "    </tr>\n",
       "    <tr>\n",
       "      <th>std</th>\n",
       "      <td>0.434893</td>\n",
       "    </tr>\n",
       "    <tr>\n",
       "      <th>min</th>\n",
       "      <td>0.000000</td>\n",
       "    </tr>\n",
       "    <tr>\n",
       "      <th>25%</th>\n",
       "      <td>0.051954</td>\n",
       "    </tr>\n",
       "    <tr>\n",
       "      <th>50%</th>\n",
       "      <td>0.990000</td>\n",
       "    </tr>\n",
       "    <tr>\n",
       "      <th>75%</th>\n",
       "      <td>0.990000</td>\n",
       "    </tr>\n",
       "    <tr>\n",
       "      <th>max</th>\n",
       "      <td>1.000000</td>\n",
       "    </tr>\n",
       "  </tbody>\n",
       "</table>\n",
       "</div>"
      ],
      "text/plain": [
       "       Posterior Probability\n",
       "count             821.000000\n",
       "mean                0.723733\n",
       "std                 0.434893\n",
       "min                 0.000000\n",
       "25%                 0.051954\n",
       "50%                 0.990000\n",
       "75%                 0.990000\n",
       "max                 1.000000"
      ]
     },
     "execution_count": 3,
     "metadata": {},
     "output_type": "execute_result"
    }
   ],
   "source": [
    "dataset.describe()"
   ]
  },
  {
   "cell_type": "code",
   "execution_count": 4,
   "id": "57e31acf",
   "metadata": {},
   "outputs": [
    {
     "name": "stdout",
     "output_type": "stream",
     "text": [
      "Classification\n",
      "1 - Not pathogenic or of no clinical significance                94\n",
      "2 - Likely not pathogenic or of little clinical significance    106\n",
      "3 - Uncertain                                                    27\n",
      "4 - Likely Pathogenic                                             1\n",
      "5 - Definitely pathogenic                                       593\n",
      "dtype: int64\n"
     ]
    }
   ],
   "source": [
    "print(dataset.groupby('Classification').size())"
   ]
  },
  {
   "cell_type": "code",
   "execution_count": 5,
   "id": "c90c6527",
   "metadata": {},
   "outputs": [
    {
     "name": "stdout",
     "output_type": "stream",
     "text": [
      "Mutation Type\n",
      "Deletion       265\n",
      "Insertion      120\n",
      "Missense       248\n",
      "Nonsense       104\n",
      "Splice Site     79\n",
      "Start Loss       5\n",
      "dtype: int64\n"
     ]
    }
   ],
   "source": [
    "print(dataset.groupby('Mutation Type').size())"
   ]
  },
  {
   "cell_type": "code",
   "execution_count": 6,
   "id": "b48a7e59",
   "metadata": {},
   "outputs": [
    {
     "name": "stdout",
     "output_type": "stream",
     "text": [
      "Location\n",
      "Exon 10        8\n",
      "Exon 11      497\n",
      "Exon 2        46\n",
      "Exon 3        34\n",
      "Exon 5        44\n",
      "Exon 6        23\n",
      "Exon 7        44\n",
      "Exon 8        35\n",
      "Exon 9         4\n",
      "Intron 10      5\n",
      "Intron 2      20\n",
      "Intron 3      33\n",
      "Intron 5      11\n",
      "Intron 6       7\n",
      "Intron 7       5\n",
      "Intron 8       3\n",
      "Intron 9       2\n",
      "dtype: int64\n"
     ]
    }
   ],
   "source": [
    "print(dataset.groupby('Location').size())"
   ]
  },
  {
   "cell_type": "code",
   "execution_count": 8,
   "id": "6562e362",
   "metadata": {},
   "outputs": [
    {
     "data": {
      "image/png": "[encoded data removed]",
      "text/plain": [
       "<Figure size 2160x2160 with 1 Axes>"
      ]
     },
     "metadata": {},
     "output_type": "display_data"
    }
   ],
   "source": [
    "sns.countplot(x=\"Classification\",hue=\"Location\", data=dataset)\n",
    "sns.set(rc={'figure.figsize':(50,30)})"
   ]
  },
  {
   "cell_type": "code",
   "execution_count": 9,
   "id": "e9977e6d",
   "metadata": {},
   "outputs": [
    {
     "data": {
      "text/plain": [
       "Location                  object\n",
       "Mutation Type             object\n",
       "Nucleotide Change         object\n",
       "Classification            object\n",
       "Posterior Probability    float64\n",
       "dtype: object"
      ]
     },
     "execution_count": 9,
     "metadata": {},
     "output_type": "execute_result"
    }
   ],
   "source": [
    "dataset.dtypes"
   ]
  },
  {
   "cell_type": "markdown",
   "id": "07f48ed7",
   "metadata": {},
   "source": [
    "#### Converting the data to numerical "
   ]
  },
  {
   "cell_type": "code",
   "execution_count": 10,
   "id": "0d14e979",
   "metadata": {},
   "outputs": [],
   "source": [
    "#transforming string values to numric\n",
    "def trans_location(l):\n",
    "    if l=='Exon 2':\n",
    "        return 2.0\n",
    "    if l=='Exon 3':\n",
    "        return 3.0\n",
    "    if l=='Exon 5':\n",
    "        return 5.0\n",
    "    if l=='Exon 6':\n",
    "        return 6.0    \n",
    "    if l=='Exon 7':\n",
    "        return 7.0\n",
    "    if l=='Exon 8':\n",
    "        return 8.0\n",
    "    if l=='Exon 9':\n",
    "        return 9.0\n",
    "    if l=='Exon 10':\n",
    "        return 10.0\n",
    "    if l=='Exon 11':\n",
    "        return 11.0\n",
    "    if l=='Intron 2':\n",
    "        return 2.2\n",
    "    if l=='Intron 3':\n",
    "        return 3.2\n",
    "    if l=='Intron 5':\n",
    "        return 5.2\n",
    "    if l=='Intron 6':\n",
    "        return 6.2\n",
    "    if l=='Intron 7':\n",
    "        return 7.2\n",
    "    if l=='Intron 8':\n",
    "        return 8.2\n",
    "    if l=='Intron 9':\n",
    "        return 9.2\n",
    "    if l=='Intron 10':\n",
    "        return 10.2\n",
    "\n",
    "def trans_mutationtype(m):\n",
    "    if m=='Deletion':\n",
    "        return 1.0\n",
    "    if m=='Insertion':\n",
    "        return 2.0\n",
    "    if m=='Missense':\n",
    "        return 3.0\n",
    "    if m=='Nonsense':\n",
    "        return 4.0\n",
    "    if m=='Splice Site':\n",
    "        return 5.0\n",
    "    if m=='Start Loss':\n",
    "        return 6.0\n",
    "\n",
    "def trans_classification(c):\n",
    "    if c=='1 - Not pathogenic or of no clinical significance':\n",
    "        return 1.0\n",
    "    if c=='2 - Likely not pathogenic or of little clinical significance':\n",
    "        return 2.0\n",
    "    if c=='3 - Uncertain':\n",
    "        return 3.0\n",
    "    if c=='4 - Likely Pathogenic':\n",
    "        return 4.0\n",
    "    if c=='5 - Definitely pathogenic':\n",
    "        return 5.0"
   ]
  },
  {
   "cell_type": "code",
   "execution_count": 11,
   "id": "baf4ed64",
   "metadata": {},
   "outputs": [
    {
     "data": {
      "text/html": [
       "<div>\n",
       "<style scoped>\n",
       "    .dataframe tbody tr th:only-of-type {\n",
       "        vertical-align: middle;\n",
       "    }\n",
       "\n",
       "    .dataframe tbody tr th {\n",
       "        vertical-align: top;\n",
       "    }\n",
       "\n",
       "    .dataframe thead th {\n",
       "        text-align: right;\n",
       "    }\n",
       "</style>\n",
       "<table border=\"1\" class=\"dataframe\">\n",
       "  <thead>\n",
       "    <tr style=\"text-align: right;\">\n",
       "      <th></th>\n",
       "      <th>Location</th>\n",
       "      <th>Mutation Type</th>\n",
       "      <th>Nucleotide Change</th>\n",
       "      <th>Classification</th>\n",
       "      <th>Posterior Probability</th>\n",
       "    </tr>\n",
       "  </thead>\n",
       "  <tbody>\n",
       "    <tr>\n",
       "      <th>0</th>\n",
       "      <td>2.0</td>\n",
       "      <td>6.0</td>\n",
       "      <td>c.1A&gt;G</td>\n",
       "      <td>5.0</td>\n",
       "      <td>0.99</td>\n",
       "    </tr>\n",
       "    <tr>\n",
       "      <th>1</th>\n",
       "      <td>2.0</td>\n",
       "      <td>6.0</td>\n",
       "      <td>c.2T&gt;C</td>\n",
       "      <td>5.0</td>\n",
       "      <td>0.99</td>\n",
       "    </tr>\n",
       "    <tr>\n",
       "      <th>2</th>\n",
       "      <td>2.0</td>\n",
       "      <td>6.0</td>\n",
       "      <td>c.2T&gt;G</td>\n",
       "      <td>5.0</td>\n",
       "      <td>0.99</td>\n",
       "    </tr>\n",
       "    <tr>\n",
       "      <th>3</th>\n",
       "      <td>2.0</td>\n",
       "      <td>6.0</td>\n",
       "      <td>c.3G&gt;C</td>\n",
       "      <td>5.0</td>\n",
       "      <td>0.99</td>\n",
       "    </tr>\n",
       "    <tr>\n",
       "      <th>4</th>\n",
       "      <td>2.0</td>\n",
       "      <td>6.0</td>\n",
       "      <td>c.3G&gt;T</td>\n",
       "      <td>5.0</td>\n",
       "      <td>0.99</td>\n",
       "    </tr>\n",
       "  </tbody>\n",
       "</table>\n",
       "</div>"
      ],
      "text/plain": [
       "   Location  Mutation Type Nucleotide Change  Classification  \\\n",
       "0       2.0            6.0            c.1A>G             5.0   \n",
       "1       2.0            6.0            c.2T>C             5.0   \n",
       "2       2.0            6.0            c.2T>G             5.0   \n",
       "3       2.0            6.0            c.3G>C             5.0   \n",
       "4       2.0            6.0            c.3G>T             5.0   \n",
       "\n",
       "   Posterior Probability  \n",
       "0                   0.99  \n",
       "1                   0.99  \n",
       "2                   0.99  \n",
       "3                   0.99  \n",
       "4                   0.99  "
      ]
     },
     "execution_count": 11,
     "metadata": {},
     "output_type": "execute_result"
    }
   ],
   "source": [
    "dataset['Location']=dataset['Location'].apply(trans_location)\n",
    "dataset['Mutation Type']=dataset['Mutation Type'].apply(trans_mutationtype)\n",
    "dataset['Classification']=dataset['Classification'].apply(trans_classification)\n",
    "dataset.head()"
   ]
  },
  {
   "cell_type": "code",
   "execution_count": 12,
   "id": "4e9fc683",
   "metadata": {},
   "outputs": [
    {
     "data": {
      "text/html": [
       "<div>\n",
       "<style scoped>\n",
       "    .dataframe tbody tr th:only-of-type {\n",
       "        vertical-align: middle;\n",
       "    }\n",
       "\n",
       "    .dataframe tbody tr th {\n",
       "        vertical-align: top;\n",
       "    }\n",
       "\n",
       "    .dataframe thead th {\n",
       "        text-align: right;\n",
       "    }\n",
       "</style>\n",
       "<table border=\"1\" class=\"dataframe\">\n",
       "  <thead>\n",
       "    <tr style=\"text-align: right;\">\n",
       "      <th></th>\n",
       "      <th>Location</th>\n",
       "      <th>Mutation Type</th>\n",
       "      <th>Classification</th>\n",
       "      <th>Posterior Probability</th>\n",
       "    </tr>\n",
       "  </thead>\n",
       "  <tbody>\n",
       "    <tr>\n",
       "      <th>0</th>\n",
       "      <td>2.0</td>\n",
       "      <td>6.0</td>\n",
       "      <td>5.0</td>\n",
       "      <td>0.99</td>\n",
       "    </tr>\n",
       "    <tr>\n",
       "      <th>1</th>\n",
       "      <td>2.0</td>\n",
       "      <td>6.0</td>\n",
       "      <td>5.0</td>\n",
       "      <td>0.99</td>\n",
       "    </tr>\n",
       "    <tr>\n",
       "      <th>2</th>\n",
       "      <td>2.0</td>\n",
       "      <td>6.0</td>\n",
       "      <td>5.0</td>\n",
       "      <td>0.99</td>\n",
       "    </tr>\n",
       "    <tr>\n",
       "      <th>3</th>\n",
       "      <td>2.0</td>\n",
       "      <td>6.0</td>\n",
       "      <td>5.0</td>\n",
       "      <td>0.99</td>\n",
       "    </tr>\n",
       "    <tr>\n",
       "      <th>4</th>\n",
       "      <td>2.0</td>\n",
       "      <td>6.0</td>\n",
       "      <td>5.0</td>\n",
       "      <td>0.99</td>\n",
       "    </tr>\n",
       "  </tbody>\n",
       "</table>\n",
       "</div>"
      ],
      "text/plain": [
       "   Location  Mutation Type  Classification  Posterior Probability\n",
       "0       2.0            6.0             5.0                   0.99\n",
       "1       2.0            6.0             5.0                   0.99\n",
       "2       2.0            6.0             5.0                   0.99\n",
       "3       2.0            6.0             5.0                   0.99\n",
       "4       2.0            6.0             5.0                   0.99"
      ]
     },
     "execution_count": 12,
     "metadata": {},
     "output_type": "execute_result"
    }
   ],
   "source": [
    "#drop Nucleotide Change coloumn \n",
    "dset = dataset.drop(['Nucleotide Change'], axis=1)\n",
    "dset.head()"
   ]
  },
  {
   "cell_type": "code",
   "execution_count": 13,
   "id": "68413ae4",
   "metadata": {},
   "outputs": [
    {
     "data": {
      "text/plain": [
       "Location                 float64\n",
       "Mutation Type            float64\n",
       "Classification           float64\n",
       "Posterior Probability    float64\n",
       "dtype: object"
      ]
     },
     "execution_count": 13,
     "metadata": {},
     "output_type": "execute_result"
    }
   ],
   "source": [
    "dset.dtypes"
   ]
  },
  {
   "cell_type": "markdown",
   "id": "0a53d8ac",
   "metadata": {},
   "source": [
    "## 1. Naïve Bayes:"
   ]
  },
  {
   "cell_type": "code",
   "execution_count": 14,
   "id": "053f1cce",
   "metadata": {},
   "outputs": [],
   "source": [
    "from sklearn.model_selection import train_test_split "
   ]
  },
  {
   "cell_type": "code",
   "execution_count": 15,
   "id": "de99deed",
   "metadata": {},
   "outputs": [],
   "source": [
    "X = dset.iloc[:,[0,1,3]].values\n",
    "y = dset.iloc[:,2].values"
   ]
  },
  {
   "cell_type": "code",
   "execution_count": 16,
   "id": "c4bc8410",
   "metadata": {},
   "outputs": [
    {
     "data": {
      "text/plain": [
       "array([[2.00000000e+00, 6.00000000e+00, 9.90000000e-01],\n",
       "       [2.00000000e+00, 6.00000000e+00, 9.90000000e-01],\n",
       "       [2.00000000e+00, 6.00000000e+00, 9.90000000e-01],\n",
       "       ...,\n",
       "       [1.10000000e+01, 3.00000000e+00, 4.26742500e-03],\n",
       "       [1.10000000e+01, 3.00000000e+00, 1.69786372e-01],\n",
       "       [1.10000000e+01, 3.00000000e+00, 7.72587100e-03]])"
      ]
     },
     "execution_count": 16,
     "metadata": {},
     "output_type": "execute_result"
    }
   ],
   "source": [
    "X"
   ]
  },
  {
   "cell_type": "code",
   "execution_count": 17,
   "id": "182d3a81",
   "metadata": {},
   "outputs": [],
   "source": [
    "X_train, X_test, y_train, y_test = train_test_split(X, y, test_size = 0.2, random_state = 1)"
   ]
  },
  {
   "cell_type": "code",
   "execution_count": 18,
   "id": "3e32ca81",
   "metadata": {},
   "outputs": [
    {
     "data": {
      "text/html": [
       "<style>#sk-container-id-1 {color: black;background-color: white;}#sk-container-id-1 pre{padding: 0;}#sk-container-id-1 div.sk-toggleable {background-color: white;}#sk-container-id-1 label.sk-toggleable__label {cursor: pointer;display: block;width: 100%;margin-bottom: 0;padding: 0.3em;box-sizing: border-box;text-align: center;}#sk-container-id-1 label.sk-toggleable__label-arrow:before {content: \"▸\";float: left;margin-right: 0.25em;color: #696969;}#sk-container-id-1 label.sk-toggleable__label-arrow:hover:before {color: black;}#sk-container-id-1 div.sk-estimator:hover label.sk-toggleable__label-arrow:before {color: black;}#sk-container-id-1 div.sk-toggleable__content {max-height: 0;max-width: 0;overflow: hidden;text-align: left;background-color: #f0f8ff;}#sk-container-id-1 div.sk-toggleable__content pre {margin: 0.2em;color: black;border-radius: 0.25em;background-color: #f0f8ff;}#sk-container-id-1 input.sk-toggleable__control:checked~div.sk-toggleable__content {max-height: 200px;max-width: 100%;overflow: auto;}#sk-container-id-1 input.sk-toggleable__control:checked~label.sk-toggleable__label-arrow:before {content: \"▾\";}#sk-container-id-1 div.sk-estimator input.sk-toggleable__control:checked~label.sk-toggleable__label {background-color: #d4ebff;}#sk-container-id-1 div.sk-label input.sk-toggleable__control:checked~label.sk-toggleable__label {background-color: #d4ebff;}#sk-container-id-1 input.sk-hidden--visually {border: 0;clip: rect(1px 1px 1px 1px);clip: rect(1px, 1px, 1px, 1px);height: 1px;margin: -1px;overflow: hidden;padding: 0;position: absolute;width: 1px;}#sk-container-id-1 div.sk-estimator {font-family: monospace;background-color: #f0f8ff;border: 1px dotted black;border-radius: 0.25em;box-sizing: border-box;margin-bottom: 0.5em;}#sk-container-id-1 div.sk-estimator:hover {background-color: #d4ebff;}#sk-container-id-1 div.sk-parallel-item::after {content: \"\";width: 100%;border-bottom: 1px solid gray;flex-grow: 1;}#sk-container-id-1 div.sk-label:hover label.sk-toggleable__label {background-color: #d4ebff;}#sk-container-id-1 div.sk-serial::before {content: \"\";position: absolute;border-left: 1px solid gray;box-sizing: border-box;top: 0;bottom: 0;left: 50%;z-index: 0;}#sk-container-id-1 div.sk-serial {display: flex;flex-direction: column;align-items: center;background-color: white;padding-right: 0.2em;padding-left: 0.2em;position: relative;}#sk-container-id-1 div.sk-item {position: relative;z-index: 1;}#sk-container-id-1 div.sk-parallel {display: flex;align-items: stretch;justify-content: center;background-color: white;position: relative;}#sk-container-id-1 div.sk-item::before, #sk-container-id-1 div.sk-parallel-item::before {content: \"\";position: absolute;border-left: 1px solid gray;box-sizing: border-box;top: 0;bottom: 0;left: 50%;z-index: -1;}#sk-container-id-1 div.sk-parallel-item {display: flex;flex-direction: column;z-index: 1;position: relative;background-color: white;}#sk-container-id-1 div.sk-parallel-item:first-child::after {align-self: flex-end;width: 50%;}#sk-container-id-1 div.sk-parallel-item:last-child::after {align-self: flex-start;width: 50%;}#sk-container-id-1 div.sk-parallel-item:only-child::after {width: 0;}#sk-container-id-1 div.sk-dashed-wrapped {border: 1px dashed gray;margin: 0 0.4em 0.5em 0.4em;box-sizing: border-box;padding-bottom: 0.4em;background-color: white;}#sk-container-id-1 div.sk-label label {font-family: monospace;font-weight: bold;display: inline-block;line-height: 1.2em;}#sk-container-id-1 div.sk-label-container {text-align: center;}#sk-container-id-1 div.sk-container {/* jupyter's `normalize.less` sets `[hidden] { display: none; }` but bootstrap.min.css set `[hidden] { display: none !important; }` so we also need the `!important` here to be able to override the default hidden behavior on the sphinx rendered scikit-learn.org. See: https://github.com/scikit-learn/scikit-learn/issues/21755 */display: inline-block !important;position: relative;}#sk-container-id-1 div.sk-text-repr-fallback {display: none;}</style><div id=\"sk-container-id-1\" class=\"sk-top-container\"><div class=\"sk-text-repr-fallback\"><pre>GaussianNB()</pre><b>In a Jupyter environment, please rerun this cell to show the HTML representation or trust the notebook. <br />On GitHub, the HTML representation is unable to render, please try loading this page with nbviewer.org.</b></div><div class=\"sk-container\" hidden><div class=\"sk-item\"><div class=\"sk-estimator sk-toggleable\"><input class=\"sk-toggleable__control sk-hidden--visually\" id=\"sk-estimator-id-1\" type=\"checkbox\" checked><label for=\"sk-estimator-id-1\" class=\"sk-toggleable__label sk-toggleable__label-arrow\">GaussianNB</label><div class=\"sk-toggleable__content\"><pre>GaussianNB()</pre></div></div></div></div></div>"
      ],
      "text/plain": [
       "GaussianNB()"
      ]
     },
     "execution_count": 18,
     "metadata": {},
     "output_type": "execute_result"
    }
   ],
   "source": [
    "nvclassifier = GaussianNB()\n",
    "nvclassifier.fit(X_train, y_train)"
   ]
  },
  {
   "cell_type": "code",
   "execution_count": 19,
   "id": "67b95ea1",
   "metadata": {},
   "outputs": [
    {
     "name": "stdout",
     "output_type": "stream",
     "text": [
      "[5. 5. 5. 5. 5. 5. 2. 3. 5. 5. 2. 5. 1. 2. 3. 5. 5. 5. 1. 5. 5. 5. 2. 5.\n",
      " 5. 1. 5. 5. 1. 5. 5. 5. 5. 5. 5. 5. 5. 2. 2. 5. 5. 5. 5. 5. 5. 5. 5. 5.\n",
      " 5. 5. 5. 5. 2. 5. 5. 5. 5. 5. 5. 1. 5. 3. 2. 5. 5. 5. 5. 5. 5. 2. 2. 5.\n",
      " 5. 2. 5. 1. 1. 5. 5. 5. 5. 5. 1. 5. 1. 2. 5. 5. 5. 5. 5. 5. 1. 5. 2. 3.\n",
      " 1. 5. 5. 2. 2. 5. 5. 5. 2. 5. 5. 5. 5. 5. 5. 5. 5. 5. 2. 5. 1. 5. 2. 2.\n",
      " 5. 1. 5. 5. 5. 5. 5. 5. 5. 5. 5. 5. 5. 2. 5. 1. 2. 5. 5. 5. 5. 1. 5. 5.\n",
      " 5. 2. 5. 2. 1. 3. 5. 5. 5. 5. 5. 5. 2. 2. 2. 5. 5. 1. 5. 5. 2.]\n"
     ]
    }
   ],
   "source": [
    "# Predicting the Test set results\n",
    "y_pred = nvclassifier.predict(X_test)\n",
    "print(y_pred)"
   ]
  },
  {
   "cell_type": "code",
   "execution_count": 20,
   "id": "266abd7e",
   "metadata": {},
   "outputs": [
    {
     "name": "stdout",
     "output_type": "stream",
     "text": [
      "[[ 17   0   0   0]\n",
      " [  0  27   2   0]\n",
      " [  0   0   2   0]\n",
      " [  0   0   1 116]]\n"
     ]
    }
   ],
   "source": [
    "cm = confusion_matrix(y_test, y_pred)\n",
    "print(cm)"
   ]
  },
  {
   "cell_type": "code",
   "execution_count": 21,
   "id": "8a2d00f2",
   "metadata": {},
   "outputs": [
    {
     "name": "stdout",
     "output_type": "stream",
     "text": [
      "Correct predictions:  162\n",
      "False predictions 3\n",
      "\n",
      "\n",
      "Accuracy of the Naive Bayes Clasification is:  0.9818181818181818\n"
     ]
    }
   ],
   "source": [
    "#test\n",
    "a = cm.shape\n",
    "corrPred = 0\n",
    "falsePred = 0\n",
    "\n",
    "for row in range(a[0]):\n",
    "    for c in range(a[1]):\n",
    "        if row == c:\n",
    "            corrPred +=cm[row,c]\n",
    "        else:\n",
    "            falsePred += cm[row,c]\n",
    "print('Correct predictions: ', corrPred)\n",
    "print('False predictions', falsePred)\n",
    "print ('\\n\\nAccuracy of the Naive Bayes Clasification is: ', corrPred/(cm.sum()))            "
   ]
  },
  {
   "cell_type": "code",
   "execution_count": null,
   "id": "189b3529",
   "metadata": {},
   "outputs": [],
   "source": []
  }
 ],
 "metadata": {
  "kernelspec": {
   "display_name": "Python 3",
   "language": "python",
   "name": "python3"
  },
  "language_info": {
   "codemirror_mode": {
    "name": "ipython",
    "version": 3
   },
   "file_extension": ".py",
   "mimetype": "text/x-python",
   "name": "python",
   "nbconvert_exporter": "python",
   "pygments_lexer": "ipython3",
   "version": "3.8.8"
  }
 },
 "nbformat": 4,
 "nbformat_minor": 5
}
