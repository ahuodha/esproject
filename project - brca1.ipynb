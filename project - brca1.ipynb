{
 "cells": [
  {
   "cell_type": "markdown",
   "id": "40b222a8",
   "metadata": {},
   "source": [
    "### Import Libraries"
   ]
  },
  {
   "cell_type": "code",
   "execution_count": 110,
   "id": "1be28d7f",
   "metadata": {},
   "outputs": [],
   "source": [
    "import pandas as pd \n",
    "import numpy as np \n",
    "import matplotlib.pyplot as plt\n",
    "import seaborn as sns\n",
    "%matplotlib inline\n",
    "from sklearn.preprocessing import StandardScaler\n",
    "from pandas.plotting import scatter_matrix \n",
    "from sklearn import model_selection \n",
    "from sklearn.metrics import classification_report \n",
    "from sklearn.metrics import confusion_matrix\n",
    "from sklearn.metrics import accuracy_score \n",
    "from sklearn.tree import DecisionTreeClassifier \n",
    "from sklearn.neighbors import KNeighborsClassifier \n",
    "from sklearn.naive_bayes import GaussianNB \n",
    "from sklearn.svm import SVC\n",
    "from sklearn.model_selection import KFold\n",
    "%matplotlib inline"
   ]
  },
  {
   "cell_type": "markdown",
   "id": "9e6bcdc1",
   "metadata": {},
   "source": [
    "### Reading BRCA1 dataset"
   ]
  },
  {
   "cell_type": "code",
   "execution_count": 111,
   "id": "a27a2e79",
   "metadata": {},
   "outputs": [
    {
     "data": {
      "text/html": [
       "<div>\n",
       "<style scoped>\n",
       "    .dataframe tbody tr th:only-of-type {\n",
       "        vertical-align: middle;\n",
       "    }\n",
       "\n",
       "    .dataframe tbody tr th {\n",
       "        vertical-align: top;\n",
       "    }\n",
       "\n",
       "    .dataframe thead th {\n",
       "        text-align: right;\n",
       "    }\n",
       "</style>\n",
       "<table border=\"1\" class=\"dataframe\">\n",
       "  <thead>\n",
       "    <tr style=\"text-align: right;\">\n",
       "      <th></th>\n",
       "      <th>Location</th>\n",
       "      <th>Mutation Type</th>\n",
       "      <th>Nucleotide Change</th>\n",
       "      <th>Classification</th>\n",
       "      <th>Posterior Probability</th>\n",
       "    </tr>\n",
       "  </thead>\n",
       "  <tbody>\n",
       "    <tr>\n",
       "      <th>0</th>\n",
       "      <td>Exon 2</td>\n",
       "      <td>Start Loss</td>\n",
       "      <td>c.1A&gt;G</td>\n",
       "      <td>5 - Definitely pathogenic</td>\n",
       "      <td>0.990000</td>\n",
       "    </tr>\n",
       "    <tr>\n",
       "      <th>1</th>\n",
       "      <td>Exon 2</td>\n",
       "      <td>Start Loss</td>\n",
       "      <td>c.2T&gt;C</td>\n",
       "      <td>5 - Definitely pathogenic</td>\n",
       "      <td>0.990000</td>\n",
       "    </tr>\n",
       "    <tr>\n",
       "      <th>2</th>\n",
       "      <td>Exon 2</td>\n",
       "      <td>Start Loss</td>\n",
       "      <td>c.2T&gt;G</td>\n",
       "      <td>5 - Definitely pathogenic</td>\n",
       "      <td>0.990000</td>\n",
       "    </tr>\n",
       "    <tr>\n",
       "      <th>3</th>\n",
       "      <td>Exon 2</td>\n",
       "      <td>Start Loss</td>\n",
       "      <td>c.3G&gt;C</td>\n",
       "      <td>5 - Definitely pathogenic</td>\n",
       "      <td>0.990000</td>\n",
       "    </tr>\n",
       "    <tr>\n",
       "      <th>4</th>\n",
       "      <td>Exon 2</td>\n",
       "      <td>Start Loss</td>\n",
       "      <td>c.3G&gt;T</td>\n",
       "      <td>5 - Definitely pathogenic</td>\n",
       "      <td>0.990000</td>\n",
       "    </tr>\n",
       "    <tr>\n",
       "      <th>...</th>\n",
       "      <td>...</td>\n",
       "      <td>...</td>\n",
       "      <td>...</td>\n",
       "      <td>...</td>\n",
       "      <td>...</td>\n",
       "    </tr>\n",
       "    <tr>\n",
       "      <th>816</th>\n",
       "      <td>Exon 11</td>\n",
       "      <td>Missense</td>\n",
       "      <td>c.3713C&gt;T</td>\n",
       "      <td>1 - Not pathogenic or of no clinical significance</td>\n",
       "      <td>0.000000</td>\n",
       "    </tr>\n",
       "    <tr>\n",
       "      <th>817</th>\n",
       "      <td>Exon 11</td>\n",
       "      <td>Missense</td>\n",
       "      <td>c.3797G&gt;C</td>\n",
       "      <td>1 - Not pathogenic or of no clinical significance</td>\n",
       "      <td>0.000000</td>\n",
       "    </tr>\n",
       "    <tr>\n",
       "      <th>818</th>\n",
       "      <td>Exon 11</td>\n",
       "      <td>Missense</td>\n",
       "      <td>c.3800T&gt;C</td>\n",
       "      <td>2 - Likely not pathogenic or of little clinica...</td>\n",
       "      <td>0.004267</td>\n",
       "    </tr>\n",
       "    <tr>\n",
       "      <th>819</th>\n",
       "      <td>Exon 11</td>\n",
       "      <td>Missense</td>\n",
       "      <td>c.3818A&gt;G</td>\n",
       "      <td>3 - Uncertain</td>\n",
       "      <td>0.169786</td>\n",
       "    </tr>\n",
       "    <tr>\n",
       "      <th>820</th>\n",
       "      <td>Exon 11</td>\n",
       "      <td>Missense</td>\n",
       "      <td>c.3835G&gt;A</td>\n",
       "      <td>2 - Likely not pathogenic or of little clinica...</td>\n",
       "      <td>0.007726</td>\n",
       "    </tr>\n",
       "  </tbody>\n",
       "</table>\n",
       "<p>821 rows × 5 columns</p>\n",
       "</div>"
      ],
      "text/plain": [
       "    Location Mutation Type Nucleotide Change  \\\n",
       "0     Exon 2    Start Loss            c.1A>G   \n",
       "1     Exon 2    Start Loss            c.2T>C   \n",
       "2     Exon 2    Start Loss            c.2T>G   \n",
       "3     Exon 2    Start Loss            c.3G>C   \n",
       "4     Exon 2    Start Loss            c.3G>T   \n",
       "..       ...           ...               ...   \n",
       "816  Exon 11      Missense         c.3713C>T   \n",
       "817  Exon 11      Missense         c.3797G>C   \n",
       "818  Exon 11      Missense         c.3800T>C   \n",
       "819  Exon 11      Missense         c.3818A>G   \n",
       "820  Exon 11      Missense         c.3835G>A   \n",
       "\n",
       "                                        Classification  Posterior Probability  \n",
       "0                            5 - Definitely pathogenic               0.990000  \n",
       "1                            5 - Definitely pathogenic               0.990000  \n",
       "2                            5 - Definitely pathogenic               0.990000  \n",
       "3                            5 - Definitely pathogenic               0.990000  \n",
       "4                            5 - Definitely pathogenic               0.990000  \n",
       "..                                                 ...                    ...  \n",
       "816  1 - Not pathogenic or of no clinical significance               0.000000  \n",
       "817  1 - Not pathogenic or of no clinical significance               0.000000  \n",
       "818  2 - Likely not pathogenic or of little clinica...               0.004267  \n",
       "819                                      3 - Uncertain               0.169786  \n",
       "820  2 - Likely not pathogenic or of little clinica...               0.007726  \n",
       "\n",
       "[821 rows x 5 columns]"
      ]
     },
     "execution_count": 111,
     "metadata": {},
     "output_type": "execute_result"
    }
   ],
   "source": [
    "dataset = pd.read_csv('brca1.csv')\n",
    "dataset"
   ]
  },
  {
   "cell_type": "code",
   "execution_count": 112,
   "id": "262573f1",
   "metadata": {},
   "outputs": [
    {
     "data": {
      "text/html": [
       "<div>\n",
       "<style scoped>\n",
       "    .dataframe tbody tr th:only-of-type {\n",
       "        vertical-align: middle;\n",
       "    }\n",
       "\n",
       "    .dataframe tbody tr th {\n",
       "        vertical-align: top;\n",
       "    }\n",
       "\n",
       "    .dataframe thead th {\n",
       "        text-align: right;\n",
       "    }\n",
       "</style>\n",
       "<table border=\"1\" class=\"dataframe\">\n",
       "  <thead>\n",
       "    <tr style=\"text-align: right;\">\n",
       "      <th></th>\n",
       "      <th>Posterior Probability</th>\n",
       "    </tr>\n",
       "  </thead>\n",
       "  <tbody>\n",
       "    <tr>\n",
       "      <th>count</th>\n",
       "      <td>821.000000</td>\n",
       "    </tr>\n",
       "    <tr>\n",
       "      <th>mean</th>\n",
       "      <td>0.723733</td>\n",
       "    </tr>\n",
       "    <tr>\n",
       "      <th>std</th>\n",
       "      <td>0.434893</td>\n",
       "    </tr>\n",
       "    <tr>\n",
       "      <th>min</th>\n",
       "      <td>0.000000</td>\n",
       "    </tr>\n",
       "    <tr>\n",
       "      <th>25%</th>\n",
       "      <td>0.051954</td>\n",
       "    </tr>\n",
       "    <tr>\n",
       "      <th>50%</th>\n",
       "      <td>0.990000</td>\n",
       "    </tr>\n",
       "    <tr>\n",
       "      <th>75%</th>\n",
       "      <td>0.990000</td>\n",
       "    </tr>\n",
       "    <tr>\n",
       "      <th>max</th>\n",
       "      <td>1.000000</td>\n",
       "    </tr>\n",
       "  </tbody>\n",
       "</table>\n",
       "</div>"
      ],
      "text/plain": [
       "       Posterior Probability\n",
       "count             821.000000\n",
       "mean                0.723733\n",
       "std                 0.434893\n",
       "min                 0.000000\n",
       "25%                 0.051954\n",
       "50%                 0.990000\n",
       "75%                 0.990000\n",
       "max                 1.000000"
      ]
     },
     "execution_count": 112,
     "metadata": {},
     "output_type": "execute_result"
    }
   ],
   "source": [
    "dataset.describe()"
   ]
  },
  {
   "cell_type": "code",
   "execution_count": 113,
   "id": "57e31acf",
   "metadata": {},
   "outputs": [
    {
     "name": "stdout",
     "output_type": "stream",
     "text": [
      "Classification\n",
      "1 - Not pathogenic or of no clinical significance                94\n",
      "2 - Likely not pathogenic or of little clinical significance    106\n",
      "3 - Uncertain                                                    27\n",
      "4 - Likely Pathogenic                                             1\n",
      "5 - Definitely pathogenic                                       593\n",
      "dtype: int64\n"
     ]
    }
   ],
   "source": [
    "print(dataset.groupby('Classification').size())"
   ]
  },
  {
   "cell_type": "code",
   "execution_count": 114,
   "id": "c90c6527",
   "metadata": {},
   "outputs": [
    {
     "name": "stdout",
     "output_type": "stream",
     "text": [
      "Mutation Type\n",
      "Deletion       265\n",
      "Insertion      120\n",
      "Missense       248\n",
      "Nonsense       104\n",
      "Splice Site     79\n",
      "Start Loss       5\n",
      "dtype: int64\n"
     ]
    }
   ],
   "source": [
    "print(dataset.groupby('Mutation Type').size())"
   ]
  },
  {
   "cell_type": "code",
   "execution_count": 115,
   "id": "b48a7e59",
   "metadata": {},
   "outputs": [
    {
     "name": "stdout",
     "output_type": "stream",
     "text": [
      "Location\n",
      "Exon 10        8\n",
      "Exon 11      497\n",
      "Exon 2        46\n",
      "Exon 3        34\n",
      "Exon 5        44\n",
      "Exon 6        23\n",
      "Exon 7        44\n",
      "Exon 8        35\n",
      "Exon 9         4\n",
      "Intron 10      5\n",
      "Intron 2      20\n",
      "Intron 3      33\n",
      "Intron 5      11\n",
      "Intron 6       7\n",
      "Intron 7       5\n",
      "Intron 8       3\n",
      "Intron 9       2\n",
      "dtype: int64\n"
     ]
    }
   ],
   "source": [
    "print(dataset.groupby('Location').size())"
   ]
  },
  {
   "cell_type": "code",
   "execution_count": 117,
   "id": "6562e362",
   "metadata": {},
   "outputs": [
    {
     "data": {
      "image/png": "[encoded data removed]",
      "text/plain": [
       "<Figure size 2160x2160 with 1 Axes>"
      ]
     },
     "metadata": {},
     "output_type": "display_data"
    }
   ],
   "source": [
    "sns.countplot(x=\"Classification\",hue=\"Location\", data=dataset)\n",
    "sns.set(rc={'figure.figsize':(40,40)})"
   ]
  },
  {
   "cell_type": "code",
   "execution_count": 118,
   "id": "e9977e6d",
   "metadata": {},
   "outputs": [
    {
     "data": {
      "text/plain": [
       "Location                  object\n",
       "Mutation Type             object\n",
       "Nucleotide Change         object\n",
       "Classification            object\n",
       "Posterior Probability    float64\n",
       "dtype: object"
      ]
     },
     "execution_count": 118,
     "metadata": {},
     "output_type": "execute_result"
    }
   ],
   "source": [
    "dataset.dtypes"
   ]
  },
  {
   "cell_type": "markdown",
   "id": "07f48ed7",
   "metadata": {},
   "source": [
    "#### Converting the data to numerical "
   ]
  },
  {
   "cell_type": "code",
   "execution_count": 119,
   "id": "0d14e979",
   "metadata": {},
   "outputs": [],
   "source": [
    "#transforming string values to numric\n",
    "def trans_location(l):\n",
    "    if l=='Exon 2':\n",
    "        return 2.0\n",
    "    if l=='Exon 3':\n",
    "        return 3.0\n",
    "    if l=='Exon 5':\n",
    "        return 5.0\n",
    "    if l=='Exon 6':\n",
    "        return 6.0    \n",
    "    if l=='Exon 7':\n",
    "        return 7.0\n",
    "    if l=='Exon 8':\n",
    "        return 8.0\n",
    "    if l=='Exon 9':\n",
    "        return 9.0\n",
    "    if l=='Exon 10':\n",
    "        return 10.0\n",
    "    if l=='Exon 11':\n",
    "        return 11.0\n",
    "    if l=='Intron 2':\n",
    "        return 2.2\n",
    "    if l=='Intron 3':\n",
    "        return 3.2\n",
    "    if l=='Intron 5':\n",
    "        return 5.2\n",
    "    if l=='Intron 6':\n",
    "        return 6.2\n",
    "    if l=='Intron 7':\n",
    "        return 7.2\n",
    "    if l=='Intron 8':\n",
    "        return 8.2\n",
    "    if l=='Intron 9':\n",
    "        return 9.2\n",
    "    if l=='Intron 10':\n",
    "        return 10.2\n",
    "\n",
    "def trans_mutationtype(m):\n",
    "    if m=='Deletion':\n",
    "        return 1.0\n",
    "    if m=='Insertion':\n",
    "        return 2.0\n",
    "    if m=='Missense':\n",
    "        return 3.0\n",
    "    if m=='Nonsense':\n",
    "        return 4.0\n",
    "    if m=='Splice Site':\n",
    "        return 5.0\n",
    "    if m=='Start Loss':\n",
    "        return 6.0\n",
    "\n",
    "def trans_classification(c):\n",
    "    if c=='1 - Not pathogenic or of no clinical significance':\n",
    "        return 1.0\n",
    "    if c=='2 - Likely not pathogenic or of little clinical significance':\n",
    "        return 2.0\n",
    "    if c=='3 - Uncertain':\n",
    "        return 3.0\n",
    "    if c=='4 - Likely Pathogenic':\n",
    "        return 4.0\n",
    "    if c=='5 - Definitely pathogenic':\n",
    "        return 5.0"
   ]
  },
  {
   "cell_type": "code",
   "execution_count": 120,
   "id": "baf4ed64",
   "metadata": {},
   "outputs": [
    {
     "data": {
      "text/html": [
       "<div>\n",
       "<style scoped>\n",
       "    .dataframe tbody tr th:only-of-type {\n",
       "        vertical-align: middle;\n",
       "    }\n",
       "\n",
       "    .dataframe tbody tr th {\n",
       "        vertical-align: top;\n",
       "    }\n",
       "\n",
       "    .dataframe thead th {\n",
       "        text-align: right;\n",
       "    }\n",
       "</style>\n",
       "<table border=\"1\" class=\"dataframe\">\n",
       "  <thead>\n",
       "    <tr style=\"text-align: right;\">\n",
       "      <th></th>\n",
       "      <th>Location</th>\n",
       "      <th>Mutation Type</th>\n",
       "      <th>Nucleotide Change</th>\n",
       "      <th>Classification</th>\n",
       "      <th>Posterior Probability</th>\n",
       "    </tr>\n",
       "  </thead>\n",
       "  <tbody>\n",
       "    <tr>\n",
       "      <th>0</th>\n",
       "      <td>2.0</td>\n",
       "      <td>6.0</td>\n",
       "      <td>c.1A&gt;G</td>\n",
       "      <td>5.0</td>\n",
       "      <td>0.99</td>\n",
       "    </tr>\n",
       "    <tr>\n",
       "      <th>1</th>\n",
       "      <td>2.0</td>\n",
       "      <td>6.0</td>\n",
       "      <td>c.2T&gt;C</td>\n",
       "      <td>5.0</td>\n",
       "      <td>0.99</td>\n",
       "    </tr>\n",
       "    <tr>\n",
       "      <th>2</th>\n",
       "      <td>2.0</td>\n",
       "      <td>6.0</td>\n",
       "      <td>c.2T&gt;G</td>\n",
       "      <td>5.0</td>\n",
       "      <td>0.99</td>\n",
       "    </tr>\n",
       "    <tr>\n",
       "      <th>3</th>\n",
       "      <td>2.0</td>\n",
       "      <td>6.0</td>\n",
       "      <td>c.3G&gt;C</td>\n",
       "      <td>5.0</td>\n",
       "      <td>0.99</td>\n",
       "    </tr>\n",
       "    <tr>\n",
       "      <th>4</th>\n",
       "      <td>2.0</td>\n",
       "      <td>6.0</td>\n",
       "      <td>c.3G&gt;T</td>\n",
       "      <td>5.0</td>\n",
       "      <td>0.99</td>\n",
       "    </tr>\n",
       "  </tbody>\n",
       "</table>\n",
       "</div>"
      ],
      "text/plain": [
       "   Location  Mutation Type Nucleotide Change  Classification  \\\n",
       "0       2.0            6.0            c.1A>G             5.0   \n",
       "1       2.0            6.0            c.2T>C             5.0   \n",
       "2       2.0            6.0            c.2T>G             5.0   \n",
       "3       2.0            6.0            c.3G>C             5.0   \n",
       "4       2.0            6.0            c.3G>T             5.0   \n",
       "\n",
       "   Posterior Probability  \n",
       "0                   0.99  \n",
       "1                   0.99  \n",
       "2                   0.99  \n",
       "3                   0.99  \n",
       "4                   0.99  "
      ]
     },
     "execution_count": 120,
     "metadata": {},
     "output_type": "execute_result"
    }
   ],
   "source": [
    "dataset['Location']=dataset['Location'].apply(trans_location)\n",
    "dataset['Mutation Type']=dataset['Mutation Type'].apply(trans_mutationtype)\n",
    "dataset['Classification']=dataset['Classification'].apply(trans_classification)\n",
    "dataset.head()"
   ]
  },
  {
   "cell_type": "code",
   "execution_count": 121,
   "id": "4e9fc683",
   "metadata": {},
   "outputs": [
    {
     "data": {
      "text/html": [
       "<div>\n",
       "<style scoped>\n",
       "    .dataframe tbody tr th:only-of-type {\n",
       "        vertical-align: middle;\n",
       "    }\n",
       "\n",
       "    .dataframe tbody tr th {\n",
       "        vertical-align: top;\n",
       "    }\n",
       "\n",
       "    .dataframe thead th {\n",
       "        text-align: right;\n",
       "    }\n",
       "</style>\n",
       "<table border=\"1\" class=\"dataframe\">\n",
       "  <thead>\n",
       "    <tr style=\"text-align: right;\">\n",
       "      <th></th>\n",
       "      <th>Location</th>\n",
       "      <th>Mutation Type</th>\n",
       "      <th>Classification</th>\n",
       "      <th>Posterior Probability</th>\n",
       "    </tr>\n",
       "  </thead>\n",
       "  <tbody>\n",
       "    <tr>\n",
       "      <th>0</th>\n",
       "      <td>2.0</td>\n",
       "      <td>6.0</td>\n",
       "      <td>5.0</td>\n",
       "      <td>0.99</td>\n",
       "    </tr>\n",
       "    <tr>\n",
       "      <th>1</th>\n",
       "      <td>2.0</td>\n",
       "      <td>6.0</td>\n",
       "      <td>5.0</td>\n",
       "      <td>0.99</td>\n",
       "    </tr>\n",
       "    <tr>\n",
       "      <th>2</th>\n",
       "      <td>2.0</td>\n",
       "      <td>6.0</td>\n",
       "      <td>5.0</td>\n",
       "      <td>0.99</td>\n",
       "    </tr>\n",
       "    <tr>\n",
       "      <th>3</th>\n",
       "      <td>2.0</td>\n",
       "      <td>6.0</td>\n",
       "      <td>5.0</td>\n",
       "      <td>0.99</td>\n",
       "    </tr>\n",
       "    <tr>\n",
       "      <th>4</th>\n",
       "      <td>2.0</td>\n",
       "      <td>6.0</td>\n",
       "      <td>5.0</td>\n",
       "      <td>0.99</td>\n",
       "    </tr>\n",
       "  </tbody>\n",
       "</table>\n",
       "</div>"
      ],
      "text/plain": [
       "   Location  Mutation Type  Classification  Posterior Probability\n",
       "0       2.0            6.0             5.0                   0.99\n",
       "1       2.0            6.0             5.0                   0.99\n",
       "2       2.0            6.0             5.0                   0.99\n",
       "3       2.0            6.0             5.0                   0.99\n",
       "4       2.0            6.0             5.0                   0.99"
      ]
     },
     "execution_count": 121,
     "metadata": {},
     "output_type": "execute_result"
    }
   ],
   "source": [
    "#drop Nucleotide Change coloumn \n",
    "dset = dataset.drop(['Nucleotide Change'], axis=1)\n",
    "dset.head()"
   ]
  },
  {
   "cell_type": "code",
   "execution_count": 122,
   "id": "68413ae4",
   "metadata": {},
   "outputs": [
    {
     "data": {
      "text/plain": [
       "Location                 float64\n",
       "Mutation Type            float64\n",
       "Classification           float64\n",
       "Posterior Probability    float64\n",
       "dtype: object"
      ]
     },
     "execution_count": 122,
     "metadata": {},
     "output_type": "execute_result"
    }
   ],
   "source": [
    "dset.dtypes"
   ]
  },
  {
   "cell_type": "markdown",
   "id": "0a53d8ac",
   "metadata": {},
   "source": [
    "## 1. Naïve Bayes:"
   ]
  },
  {
   "cell_type": "code",
   "execution_count": 123,
   "id": "053f1cce",
   "metadata": {},
   "outputs": [],
   "source": [
    "from sklearn.model_selection import train_test_split "
   ]
  },
  {
   "cell_type": "code",
   "execution_count": 124,
   "id": "de99deed",
   "metadata": {},
   "outputs": [],
   "source": [
    "X = dset.iloc[:,[0,1,3]].values\n",
    "y = dset.iloc[:,2].values"
   ]
  },
  {
   "cell_type": "code",
   "execution_count": 125,
   "id": "c4bc8410",
   "metadata": {},
   "outputs": [
    {
     "data": {
      "text/plain": [
       "array([[2.00000000e+00, 6.00000000e+00, 9.90000000e-01],\n",
       "       [2.00000000e+00, 6.00000000e+00, 9.90000000e-01],\n",
       "       [2.00000000e+00, 6.00000000e+00, 9.90000000e-01],\n",
       "       ...,\n",
       "       [1.10000000e+01, 3.00000000e+00, 4.26742500e-03],\n",
       "       [1.10000000e+01, 3.00000000e+00, 1.69786372e-01],\n",
       "       [1.10000000e+01, 3.00000000e+00, 7.72587100e-03]])"
      ]
     },
     "execution_count": 125,
     "metadata": {},
     "output_type": "execute_result"
    }
   ],
   "source": [
    "X"
   ]
  },
  {
   "cell_type": "code",
   "execution_count": 126,
   "id": "182d3a81",
   "metadata": {},
   "outputs": [],
   "source": [
    "X_train, X_test, y_train, y_test = train_test_split(X, y, test_size = 0.2, random_state = 1)"
   ]
  },
  {
   "cell_type": "code",
   "execution_count": 127,
   "id": "3e32ca81",
   "metadata": {},
   "outputs": [
    {
     "data": {
      "text/plain": [
       "GaussianNB()"
      ]
     },
     "execution_count": 127,
     "metadata": {},
     "output_type": "execute_result"
    }
   ],
   "source": [
    "nvclassifier = GaussianNB()\n",
    "nvclassifier.fit(X_train, y_train)"
   ]
  },
  {
   "cell_type": "code",
   "execution_count": 128,
   "id": "67b95ea1",
   "metadata": {},
   "outputs": [
    {
     "name": "stdout",
     "output_type": "stream",
     "text": [
      "[5. 5. 5. 5. 5. 5. 2. 3. 5. 5. 2. 5. 1. 2. 3. 5. 5. 5. 1. 5. 5. 5. 2. 5.\n",
      " 5. 1. 5. 5. 1. 5. 5. 5. 5. 5. 5. 5. 5. 2. 2. 5. 5. 5. 5. 5. 5. 5. 5. 5.\n",
      " 5. 5. 5. 5. 2. 5. 5. 5. 5. 5. 5. 1. 5. 3. 2. 5. 5. 5. 5. 5. 5. 2. 2. 5.\n",
      " 5. 2. 5. 1. 1. 5. 5. 5. 5. 5. 1. 5. 1. 2. 5. 5. 5. 5. 5. 5. 1. 5. 2. 3.\n",
      " 1. 5. 5. 2. 2. 5. 5. 5. 2. 5. 5. 5. 5. 5. 5. 5. 5. 5. 2. 5. 1. 5. 2. 2.\n",
      " 5. 1. 5. 5. 5. 5. 5. 5. 5. 5. 5. 5. 5. 2. 5. 1. 2. 5. 5. 5. 5. 1. 5. 5.\n",
      " 5. 2. 5. 2. 1. 3. 5. 5. 5. 5. 5. 5. 2. 2. 2. 5. 5. 1. 5. 5. 2.]\n"
     ]
    }
   ],
   "source": [
    "# Predicting the Test set results\n",
    "y_pred = nvclassifier.predict(X_test)\n",
    "print(y_pred)"
   ]
  },
  {
   "cell_type": "code",
   "execution_count": 129,
   "id": "266abd7e",
   "metadata": {},
   "outputs": [
    {
     "name": "stdout",
     "output_type": "stream",
     "text": [
      "[[ 17   0   0   0]\n",
      " [  0  27   2   0]\n",
      " [  0   0   2   0]\n",
      " [  0   0   1 116]]\n"
     ]
    }
   ],
   "source": [
    "cm = confusion_matrix(y_test, y_pred)\n",
    "print(cm)"
   ]
  },
  {
   "cell_type": "code",
   "execution_count": 130,
   "id": "8a2d00f2",
   "metadata": {},
   "outputs": [
    {
     "name": "stdout",
     "output_type": "stream",
     "text": [
      "Correct predictions:  162\n",
      "False predictions 3\n",
      "\n",
      "\n",
      "Accuracy of the Naive Bayes Clasification is:  0.9818181818181818\n"
     ]
    }
   ],
   "source": [
    "#test\n",
    "a = cm.shape\n",
    "corrPred = 0\n",
    "falsePred = 0\n",
    "\n",
    "for row in range(a[0]):\n",
    "    for c in range(a[1]):\n",
    "        if row == c:\n",
    "            corrPred +=cm[row,c]\n",
    "        else:\n",
    "            falsePred += cm[row,c]\n",
    "print('Correct predictions: ', corrPred)\n",
    "print('False predictions', falsePred)\n",
    "print ('\\n\\nAccuracy of the Naive Bayes Clasification is: ', corrPred/(cm.sum()))            "
   ]
  },
  {
   "cell_type": "markdown",
   "id": "1716c179",
   "metadata": {},
   "source": [
    "## 2. KNN"
   ]
  },
  {
   "cell_type": "code",
   "execution_count": 131,
   "id": "cbc16105",
   "metadata": {},
   "outputs": [],
   "source": [
    "# Load and prepare the dataset\n",
    "X = dset.iloc[:,[0,1,3]].values # Extract the features (X) values\n",
    "y = dset.iloc[:,2].values # Extract the target (y) values"
   ]
  },
  {
   "cell_type": "code",
   "execution_count": 132,
   "id": "9a3104cf",
   "metadata": {},
   "outputs": [],
   "source": [
    "# Split the data into training and testing sets\n",
    "X_train, X_test, y_train, y_test = train_test_split(X, y, test_size = 0.2, random_state = 1)"
   ]
  },
  {
   "cell_type": "code",
   "execution_count": 133,
   "id": "42091591",
   "metadata": {},
   "outputs": [
    {
     "data": {
      "text/plain": [
       "KNeighborsClassifier()"
      ]
     },
     "execution_count": 133,
     "metadata": {},
     "output_type": "execute_result"
    }
   ],
   "source": [
    "# Train the KNN classifier\n",
    "knn = KNeighborsClassifier(n_neighbors=5) # Initialize the KNN classifier with 5 neighbors\n",
    "knn.fit(X_train, y_train) # Train the classifier on the training data"
   ]
  },
  {
   "cell_type": "code",
   "execution_count": 134,
   "id": "aa5b5a9d",
   "metadata": {},
   "outputs": [],
   "source": [
    "# Make predictions on the test data\n",
    "y_pred = knn.predict(X_test)"
   ]
  },
  {
   "cell_type": "code",
   "execution_count": 135,
   "id": "a7048fc4",
   "metadata": {},
   "outputs": [],
   "source": [
    "# Evaluate the classifier's performance using accuracy score\n",
    "accuracy = accuracy_score(y_test, y_pred)"
   ]
  },
  {
   "cell_type": "code",
   "execution_count": 136,
   "id": "d956699a",
   "metadata": {},
   "outputs": [
    {
     "name": "stdout",
     "output_type": "stream",
     "text": [
      "Accuracy of KNN Classification:  0.9757575757575757\n"
     ]
    }
   ],
   "source": [
    "# Print the results to the console\n",
    "print('Accuracy of KNN Classification: ', accuracy)"
   ]
  },
  {
   "cell_type": "markdown",
   "id": "a60419ca",
   "metadata": {},
   "source": [
    "## 3. SVM"
   ]
  },
  {
   "cell_type": "code",
   "execution_count": 137,
   "id": "300f026c",
   "metadata": {},
   "outputs": [],
   "source": [
    "from sklearn.svm import SVC"
   ]
  },
  {
   "cell_type": "code",
   "execution_count": 138,
   "id": "2d2b3ecd",
   "metadata": {},
   "outputs": [],
   "source": [
    "# Load and prepare the dataset\n",
    "X = dset.iloc[:,[0,1,3]].values # Extract the features (X) values\n",
    "y = dset.iloc[:,2].values # Extract the target (y) values"
   ]
  },
  {
   "cell_type": "code",
   "execution_count": 139,
   "id": "4538c3f5",
   "metadata": {},
   "outputs": [],
   "source": [
    "# Split the data into training and testing sets\n",
    "X_train, X_test, y_train, y_test = train_test_split(X, y, test_size = 0.2, random_state = 1)"
   ]
  },
  {
   "cell_type": "code",
   "execution_count": 140,
   "id": "69f797e7",
   "metadata": {},
   "outputs": [
    {
     "data": {
      "text/plain": [
       "SVC(kernel='linear')"
      ]
     },
     "execution_count": 140,
     "metadata": {},
     "output_type": "execute_result"
    }
   ],
   "source": [
    "# Train the SVM classifier\n",
    "svm = SVC(kernel='linear') # Initialize the SVM classifier with a linear kernel\n",
    "svm.fit(X_train, y_train) # Train the classifier on the training data"
   ]
  },
  {
   "cell_type": "code",
   "execution_count": 141,
   "id": "d6711c0c",
   "metadata": {},
   "outputs": [],
   "source": [
    "# Make predictions on the test data\n",
    "y_pred = svm.predict(X_test)"
   ]
  },
  {
   "cell_type": "code",
   "execution_count": 142,
   "id": "5e00921f",
   "metadata": {},
   "outputs": [],
   "source": [
    "# Evaluate the classifier's performance using accuracy score\n",
    "accuracy = accuracy_score(y_test, y_pred)"
   ]
  },
  {
   "cell_type": "code",
   "execution_count": 143,
   "id": "3aa36eb4",
   "metadata": {},
   "outputs": [
    {
     "name": "stdout",
     "output_type": "stream",
     "text": [
      "Accuracy of SVM Classification:  0.8242424242424242\n"
     ]
    }
   ],
   "source": [
    "# Print the results to the console\n",
    "print('Accuracy of SVM Classification: ', accuracy)"
   ]
  },
  {
   "cell_type": "markdown",
   "id": "2f88fb3d",
   "metadata": {},
   "source": [
    "## 4. Decision Tree"
   ]
  },
  {
   "cell_type": "code",
   "execution_count": 147,
   "id": "fe0c66d0",
   "metadata": {},
   "outputs": [],
   "source": [
    "#decision tree\n",
    "from sklearn.tree import DecisionTreeClassifier\n",
    "\n",
    "#Load and prepare the dataset\n",
    "X = dset.iloc[:,[0,1,3]].values # Extract the features (X) values\n",
    "y = dset.iloc[:,2].values # Extract the target (y) values"
   ]
  },
  {
   "cell_type": "code",
   "execution_count": 148,
   "id": "a2fbed28",
   "metadata": {},
   "outputs": [],
   "source": [
    "#Split the data into training and testing sets\n",
    "X_train, X_test, y_train, y_test = train_test_split(X, y, test_size = 0.2, random_state = 1)"
   ]
  },
  {
   "cell_type": "code",
   "execution_count": 149,
   "id": "0a5e117a",
   "metadata": {},
   "outputs": [
    {
     "data": {
      "text/plain": [
       "DecisionTreeClassifier()"
      ]
     },
     "execution_count": 149,
     "metadata": {},
     "output_type": "execute_result"
    }
   ],
   "source": [
    "#Train the decision tree classifier\n",
    "dt = DecisionTreeClassifier() # Initialize the decision tree classifier\n",
    "dt.fit(X_train, y_train) # Train the classifier on the training data"
   ]
  },
  {
   "cell_type": "code",
   "execution_count": 150,
   "id": "ef962901",
   "metadata": {},
   "outputs": [],
   "source": [
    "#Make predictions on the test data\n",
    "y_pred = dt.predict(X_test)"
   ]
  },
  {
   "cell_type": "code",
   "execution_count": 151,
   "id": "de49731b",
   "metadata": {},
   "outputs": [
    {
     "name": "stdout",
     "output_type": "stream",
     "text": [
      "Accuracy of decision tree Classification:  0.9939393939393939\n"
     ]
    }
   ],
   "source": [
    "#Evaluate the classifier's performance using accuracy score\n",
    "accuracy = accuracy_score(y_test, y_pred)\n",
    "# Print the results to the console\n",
    "print('Accuracy of decision tree Classification: ', accuracy)"
   ]
  },
  {
   "cell_type": "markdown",
   "id": "8d392af5",
   "metadata": {},
   "source": [
    "## 5.MLP"
   ]
  },
  {
   "cell_type": "code",
   "execution_count": 153,
   "id": "379e3290",
   "metadata": {},
   "outputs": [],
   "source": [
    "#MLP\n",
    "#Import necessary modules\n",
    "from sklearn.model_selection import train_test_split\n",
    "from sklearn.neural_network import MLPClassifier\n",
    "from sklearn.metrics import accuracy_score\n",
    "\n",
    "#Load and prepare the dataset\n",
    "X = dset.iloc[:,[0,1,3]].values # Extract the features (X) values\n",
    "y = dset.iloc[:,2].values # Extract the target (y) value"
   ]
  },
  {
   "cell_type": "code",
   "execution_count": 154,
   "id": "ea63aa88",
   "metadata": {},
   "outputs": [],
   "source": [
    "#Split the data into training and testing sets\n",
    "X_train, X_test, y_train, y_test = train_test_split(X, y, test_size = 0.2, random_state = 1)"
   ]
  },
  {
   "cell_type": "code",
   "execution_count": 155,
   "id": "45f66277",
   "metadata": {},
   "outputs": [
    {
     "data": {
      "text/plain": [
       "MLPClassifier(hidden_layer_sizes=(50,), max_iter=1000, random_state=1)"
      ]
     },
     "execution_count": 155,
     "metadata": {},
     "output_type": "execute_result"
    }
   ],
   "source": [
    "#Train the MLP classifier\n",
    "mlp = MLPClassifier(hidden_layer_sizes=(50,), max_iter=1000, random_state=1) # Initialize the MLP classifier with one hidden layer of 50 neurons\n",
    "mlp.fit(X_train, y_train) # Train the classifier on the training data"
   ]
  },
  {
   "cell_type": "code",
   "execution_count": 156,
   "id": "1aca0be6",
   "metadata": {},
   "outputs": [],
   "source": [
    "#Make predictions on the test data\n",
    "y_pred = mlp.predict(X_test)"
   ]
  },
  {
   "cell_type": "code",
   "execution_count": 157,
   "id": "bc7481f3",
   "metadata": {},
   "outputs": [
    {
     "name": "stdout",
     "output_type": "stream",
     "text": [
      "Accuracy of MLP Classification:  0.8909090909090909\n"
     ]
    }
   ],
   "source": [
    "#Evaluate the classifier's performance using accuracy score\n",
    "accuracy = accuracy_score(y_test, y_pred)\n",
    "#Print the results to the console\n",
    "print('Accuracy of MLP Classification: ', accuracy)"
   ]
  },
  {
   "cell_type": "code",
   "execution_count": 158,
   "id": "b8b31805",
   "metadata": {},
   "outputs": [],
   "source": [
    "# Import necessary modules\n",
    "import matplotlib.pyplot as plt\n",
    "import seaborn as sns\n",
    "from sklearn.metrics import confusion_matrix"
   ]
  },
  {
   "cell_type": "code",
   "execution_count": 159,
   "id": "a5cb73d0",
   "metadata": {},
   "outputs": [
    {
     "data": {
      "image/png": "[encoded data removed]",
      "text/plain": [
       "<Figure size 720x576 with 2 Axes>"
      ]
     },
     "metadata": {},
     "output_type": "display_data"
    }
   ],
   "source": [
    "# Plot the confusion matrix\n",
    "cm = confusion_matrix(y_test, y_pred)\n",
    "plt.figure(figsize=(10, 8))\n",
    "sns.heatmap(cm, annot=True, fmt='d', cmap='Blues')\n",
    "plt.xlabel('Predicted Label', fontsize=20)\n",
    "plt.ylabel('True Label', fontsize=20)\n",
    "plt.title('Confusion Matrix of MLP Classification', fontsize=20)\n",
    "plt.show()"
   ]
  },
  {
   "cell_type": "code",
   "execution_count": null,
   "id": "564a8f0e",
   "metadata": {},
   "outputs": [],
   "source": []
  }
 ],
 "metadata": {
  "kernelspec": {
   "display_name": "Python 3",
   "language": "python",
   "name": "python3"
  },
  "language_info": {
   "codemirror_mode": {
    "name": "ipython",
    "version": 3
   },
   "file_extension": ".py",
   "mimetype": "text/x-python",
   "name": "python",
   "nbconvert_exporter": "python",
   "pygments_lexer": "ipython3",
   "version": "3.8.0"
  }
 },
 "nbformat": 4,
 "nbformat_minor": 5
}
